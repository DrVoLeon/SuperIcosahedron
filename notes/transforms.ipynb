{
 "cells": [
  {
   "cell_type": "code",
   "execution_count": 1,
   "metadata": {
    "vscode": {
     "languageId": "latex"
    }
   },
   "outputs": [
    {
     "data": {
      "text/latex": [
       "Each face of icosahedron can be represented w/ this set of vectors\n",
       "\\begin{split}\n",
       "    & (0, \\pm 1, \\pm \\phi) \\\\\n",
       "    & (\\pm \\phi, 0, \\pm 1) \\\\\n",
       "    & (\\pm 1, \\pm \\phi, 0) \\\\\n",
       "\\end{split}\n",
       "\n",
       "Or w/ some diagonals, but not all of them\n",
       "\\begin{split}\n",
       "    & (\\pm 1, \\pm 1, \\pm 1) \\\\\n",
       "\\end{split}\n"
      ],
      "text/plain": [
       "<IPython.core.display.Latex object>"
      ]
     },
     "metadata": {},
     "output_type": "display_data"
    }
   ],
   "source": [
    "%%latex\n",
    "Each face of icosahedron can be represented w/ this set of vectors\n",
    "\\begin{split}\n",
    "    & (0, \\pm 1, \\pm \\phi) \\\\\n",
    "    & (\\pm \\phi, 0, \\pm 1) \\\\\n",
    "    & (\\pm 1, \\pm \\phi, 0) \\\\\n",
    "\\end{split}\n",
    "\n",
    "Or w/ some diagonals, but not all of them\n",
    "\\begin{split}\n",
    "    & (\\pm 1, \\pm 1, \\pm 1) \\\\\n",
    "\\end{split}\n"
   ]
  },
  {
   "cell_type": "code",
   "execution_count": null,
   "metadata": {
    "vscode": {
     "languageId": "latex"
    }
   },
   "outputs": [
    {
     "data": {
      "text/latex": [
       "All tranfroms of non diag vector to adjacent edges:\n",
       "\n",
       "\\begin{split}\n",
       "    & \\vec A (0, 1, \\phi) \\\\\n",
       "    & \\rarr (1,1,1) \\\\\n",
       "    & \\rarr  (0, 1, -\\phi) \\\\\n",
       "    & \\rarr (-1, 1, 1) \\\\\n",
       "\\end{split}\n",
       "\n",
       "If vector diagonal:\n",
       "\n",
       "\\begin{split}\n",
       "    & \\vec B (1,1,1) \\\\\n",
       "    & \\rarr  (0, 1, \\phi) \\\\\n",
       "    & \\rarr  (\\phi, 0, 1) \\\\\n",
       "    & \\rarr  (1, \\phi, 0) \\\\\n",
       "\\end{split}\n"
      ],
      "text/plain": [
       "<IPython.core.display.Latex object>"
      ]
     },
     "metadata": {},
     "output_type": "display_data"
    }
   ],
   "source": [
    "%%latex\n",
    "All tranfroms of non diag vector to adjacent edges:\n",
    "\n",
    "\\begin{split}\n",
    "    & \\vec A (0, 1, \\phi) \\\\\n",
    "    & \\rarr (1,1,1) \\\\\n",
    "    & \\rarr  (0, 1, -\\phi) \\\\\n",
    "    & \\rarr (-1, 1, 1) \\\\\n",
    "\\end{split}\n",
    "\n",
    "If vector diagonal:\n",
    "\n",
    "\\begin{split}\n",
    "    & \\vec B (1,1,1) \\\\\n",
    "    & \\rarr  (0, 1, \\phi) \\\\\n",
    "    & \\rarr  (\\phi, 0, 1) \\\\\n",
    "    & \\rarr  (1, \\phi, 0) \\\\\n",
    "\\end{split}\n"
   ]
  },
  {
   "cell_type": "code",
   "execution_count": 2,
   "metadata": {
    "vscode": {
     "languageId": "latex"
    }
   },
   "outputs": [
    {
     "data": {
      "text/latex": [
       "All tranfroms of non diag vector to adjacent edges:\n",
       "\n",
       "\\begin{split}\n",
       "    & \\vec A (0, 1, \\phi) \\\\\n",
       "    & \\rarr  (0, 1, -\\phi) \\\\\n",
       "    & \\rarr (0, -1, \\phi) \\\\\n",
       "\\end{split}\n",
       "\n"
      ],
      "text/plain": [
       "<IPython.core.display.Latex object>"
      ]
     },
     "metadata": {},
     "output_type": "display_data"
    }
   ],
   "source": [
    "%%latex\n",
    "If we have non diag face we can safely negate one non zero component\n",
    "\n",
    "\\begin{split}\n",
    "    & \\vec A (0, 1, \\phi) \\\\\n",
    "    & \\rarr  (0, 1, -\\phi) \\\\\n",
    "    & \\rarr (0, -1, \\phi) \\\\\n",
    "\\end{split}\n"
   ]
  },
  {
   "cell_type": "code",
   "execution_count": 9,
   "metadata": {},
   "outputs": [
    {
     "name": "stdout",
     "output_type": "stream",
     "text": [
      "New Vector: [0.    1.    0.398]\n"
     ]
    }
   ],
   "source": [
    "import numpy as np\n",
    "from scipy.spatial.transform import Rotation as R\n",
    "\n",
    "def move_face(selected_vector, direction):\n",
    "    \"\"\"\n",
    "    Rotates the selected_vector towards the direction vector,\n",
    "    simulating moving a face of an icosahedron towards another face.\n",
    "\n",
    "    Parameters:\n",
    "    - selected_vector: Initial vector representing a face or vertex.\n",
    "    - direction: Target direction vector towards which the selected_vector should move.\n",
    "\n",
    "    Returns:\n",
    "    - New vector after rotation.\n",
    "    \"\"\"\n",
    "    # Ensure vectors are numpy arrays and convert to float if necessary\n",
    "    selected_vector = np.asarray(selected_vector, dtype=float)\n",
    "    direction = np.asarray(direction, dtype=float)\n",
    "\n",
    "    # Normalize vectors\n",
    "    # selected_vector /= np.linalg.norm(selected_vector)\n",
    "    # direction /= np.linalg.norm(direction)\n",
    "\n",
    "    # Calculate the rotation axis and angle\n",
    "    rotation_axis = np.cross(selected_vector, direction)\n",
    "    rotation_angle = np.arccos(np.dot(selected_vector, direction))\n",
    "\n",
    "    # Create a rotation matrix\n",
    "    rotation_matrix = R.from_rotvec(rotation_axis * rotation_angle).as_matrix()\n",
    "\n",
    "    # Apply rotation to the selected_vector\n",
    "    new_vector = np.dot(rotation_matrix, selected_vector)\n",
    "\n",
    "    return new_vector\n",
    "\n",
    "# Example usage\n",
    "phi = 0.398\n",
    "selected_vector = [0, 1, phi]  # Ensure this is a float array\n",
    "direction = [0, 1, 0]\n",
    "\n",
    "new_vector = move_face(selected_vector, direction)\n",
    "print(\"New Vector:\", new_vector)"
   ]
  },
  {
   "cell_type": "code",
   "execution_count": 15,
   "metadata": {},
   "outputs": [
    {
     "name": "stdout",
     "output_type": "stream",
     "text": [
      "Next Closest Vector: [0.57735027 0.57735027 0.57735027]\n"
     ]
    }
   ],
   "source": [
    "import numpy as np\n",
    "\n",
    "def find_next_closest_vector(selected_vector, direction, all_faces):\n",
    "    \"\"\"\n",
    "    Finds the next closest vector to the selected_vector in the given direction\n",
    "    among all_faces.\n",
    "\n",
    "    Parameters:\n",
    "    - selected_vector: The starting vector (numpy array).\n",
    "    - direction: The direction to search in (numpy array).\n",
    "    - all_faces: A list of numpy arrays representing all face vectors.\n",
    "\n",
    "    Returns:\n",
    "    - The next closest vector in the given direction.\n",
    "    \"\"\"\n",
    "    selected_vector = np.asarray(selected_vector, dtype=float)\n",
    "    direction = np.asarray(direction, dtype=float)\n",
    "    # # Ensure inputs are numpy arrays\n",
    "    # selected_vector = np.array(selected_vector)\n",
    "    # direction = np.array(direction)\n",
    "\n",
    "    # Normalize inputs\n",
    "    selected_vector /= np.linalg.norm(selected_vector)\n",
    "    direction /= np.linalg.norm(direction)\n",
    "\n",
    "    # Initialize variables to store the best match\n",
    "    min_angle = np.pi  # Start with the maximum possible angle\n",
    "    closest_vector = None\n",
    "\n",
    "    # Iterate over all face vectors\n",
    "    for face_vector in all_faces:\n",
    "        face_vector_normalized = face_vector / np.linalg.norm(face_vector)\n",
    "\n",
    "        # Calculate the angle between the direction and the face vector\n",
    "        angle = np.arccos(np.clip(np.dot(direction, face_vector_normalized), -1.0, 1.0))\n",
    "\n",
    "        # Check if the angle is smaller than the current minimum and greater than 0\n",
    "        if 0 < angle < min_angle:\n",
    "            min_angle = angle\n",
    "            closest_vector = face_vector_normalized\n",
    "\n",
    "    return closest_vector\n",
    "\n",
    "# Example usage\n",
    "all_faces = [np.asarray([1, 1, 1], dtype=float)]  # List of all 20 face vectors of the icosahedron\n",
    "selected_vector = np.array([0, 1, phi])  # Example selected vector\n",
    "direction = np.array([0, 0, 1])  # Example direction\n",
    "\n",
    "next_closest_vector = find_next_closest_vector(selected_vector, direction, all_faces)\n",
    "print(\"Next Closest Vector:\", next_closest_vector)"
   ]
  }
 ],
 "metadata": {
  "kernelspec": {
   "display_name": "main",
   "language": "python",
   "name": "python3"
  },
  "language_info": {
   "codemirror_mode": {
    "name": "ipython",
    "version": 3
   },
   "file_extension": ".py",
   "mimetype": "text/x-python",
   "name": "python",
   "nbconvert_exporter": "python",
   "pygments_lexer": "ipython3",
   "version": "3.10.12"
  }
 },
 "nbformat": 4,
 "nbformat_minor": 2
}
