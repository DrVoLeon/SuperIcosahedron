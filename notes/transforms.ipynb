{
 "cells": [
  {
   "cell_type": "code",
   "execution_count": 114,
   "metadata": {
    "vscode": {
     "languageId": "latex"
    }
   },
   "outputs": [
    {
     "data": {
      "text/latex": [
       "Each face of icosahedrom can be represented w/ this set of vectors\n",
       "\\begin{split}\n",
       "    & (0, \\pm 1, ±\\phi) \\\\\n",
       "    & (±\\phi, 0, ±1) \\\\\n",
       "    & (±1, ±\\phi, 0) \\\\\n",
       "\\end{split}\n",
       "\n",
       "Or w/ diagonals\n",
       "\\begin{split}\n",
       "    & (\\pm 1, \\pm 1, \\pm 1) \\\\\n",
       "\\end{split}\n"
      ],
      "text/plain": [
       "<IPython.core.display.Latex object>"
      ]
     },
     "metadata": {},
     "output_type": "display_data"
    }
   ],
   "source": [
    "%%latex\n",
    "Each face of icosahedrom can be represented w/ this set of vectors\n",
    "\\begin{split}\n",
    "    & (0, \\pm 1, ±\\phi) \\\\\n",
    "    & (±\\phi, 0, ±1) \\\\\n",
    "    & (±1, ±\\phi, 0) \\\\\n",
    "\\end{split}\n",
    "\n",
    "Or w/ some diagonals, bu not all of them\n",
    "\\begin{split}\n",
    "    & (\\pm 1, \\pm 1, \\pm 1) \\\\\n",
    "\\end{split}\n"
   ]
  },
  {
   "cell_type": "code",
   "execution_count": null,
   "metadata": {
    "vscode": {
     "languageId": "latex"
    }
   },
   "outputs": [
    {
     "data": {
      "text/latex": [
       "All tranfroms of non diag vector to adjacent edges:\n",
       "\n",
       "\\begin{split}\n",
       "    & \\vec A (0, 1, \\phi) \\\\\n",
       "    & \\rarr (1,1,1) \\\\\n",
       "    & \\rarr  (0, 1, -\\phi) \\\\\n",
       "    & \\rarr (-1, 1, 1) \\\\\n",
       "\\end{split}\n",
       "\n",
       "If vector diagonal:\n",
       "\n",
       "\\begin{split}\n",
       "    & \\vec B (1,1,1) \\\\\n",
       "    & \\rarr  (0, 1, \\phi) \\\\\n",
       "    & \\rarr  (\\phi, 0, 1) \\\\\n",
       "    & \\rarr  (1, \\phi, 0) \\\\\n",
       "\\end{split}\n"
      ],
      "text/plain": [
       "<IPython.core.display.Latex object>"
      ]
     },
     "metadata": {},
     "output_type": "display_data"
    }
   ],
   "source": [
    "%%latex\n",
    "All tranfroms of non diag vector to adjacent edges:\n",
    "\n",
    "\\begin{split}\n",
    "    & \\vec A (0, 1, \\phi) \\\\\n",
    "    & \\rarr (1,1,1) \\\\\n",
    "    & \\rarr  (0, 1, -\\phi) \\\\\n",
    "    & \\rarr (-1, 1, 1) \\\\\n",
    "\\end{split}\n",
    "\n",
    "If vector diagonal:\n",
    "\n",
    "\\begin{split}\n",
    "    & \\vec B (1,1,1) \\\\\n",
    "    & \\rarr  (0, 1, \\phi) \\\\\n",
    "    & \\rarr  (\\phi, 0, 1) \\\\\n",
    "    & \\rarr  (1, \\phi, 0) \\\\\n",
    "\\end{split}\n"
   ]
  },
  {
   "cell_type": "code",
   "execution_count": 2,
   "metadata": {
    "vscode": {
     "languageId": "latex"
    }
   },
   "outputs": [
    {
     "data": {
      "text/latex": [
       "All tranfroms of non diag vector to adjacent edges:\n",
       "\n",
       "\\begin{split}\n",
       "    & \\vec A (0, 1, \\phi) \\\\\n",
       "    & \\rarr  (0, 1, -\\phi) \\\\\n",
       "    & \\rarr (0, -1, \\phi) \\\\\n",
       "\\end{split}\n",
       "\n"
      ],
      "text/plain": [
       "<IPython.core.display.Latex object>"
      ]
     },
     "metadata": {},
     "output_type": "display_data"
    }
   ],
   "source": [
    "%%latex\n",
    "If we have non diag face we can safely negate one non zero component\n",
    "\n",
    "\\begin{split}\n",
    "    & \\vec A (0, 1, \\phi) \\\\\n",
    "    & \\rarr  (0, 1, -\\phi) \\\\\n",
    "    & \\rarr (0, -1, \\phi) \\\\\n",
    "\\end{split}\n"
   ]
  }
 ],
 "metadata": {
  "kernelspec": {
   "display_name": "main",
   "language": "python",
   "name": "python3"
  },
  "language_info": {
   "codemirror_mode": {
    "name": "ipython",
    "version": 3
   },
   "file_extension": ".py",
   "mimetype": "text/x-python",
   "name": "python",
   "nbconvert_exporter": "python",
   "pygments_lexer": "ipython3",
   "version": "3.10.12"
  }
 },
 "nbformat": 4,
 "nbformat_minor": 2
}
