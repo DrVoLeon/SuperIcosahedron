{
 "cells": [
  {
   "cell_type": "code",
   "execution_count": 1,
   "metadata": {
    "vscode": {
     "languageId": "latex"
    }
   },
   "outputs": [
    {
     "data": {
      "text/latex": [
       "$$[ \\vec{N} = (\\vec{B}-\\vec{A}) \\times (\\vec{C}-\\vec{A}) ]$$\n"
      ],
      "text/plain": [
       "<IPython.core.display.Latex object>"
      ]
     },
     "metadata": {},
     "output_type": "display_data"
    }
   ],
   "source": [
    "%%latex\n",
    "$$[ \\vec{N} = (\\vec{B}-\\vec{A}) \\times (\\vec{C}-\\vec{A}) ]$$\n"
   ]
  },
  {
   "cell_type": "code",
   "execution_count": 13,
   "metadata": {
    "vscode": {
     "languageId": "latex"
    }
   },
   "outputs": [
    {
     "data": {
      "text/latex": [
       "\n",
       "$$ ((0, ±1, ±\\phi))$$\n",
       "$$ ((±\\phi, 0, ±1))$$\n",
       "$$ ((±1, ±\\phi, 0))$$\n"
      ],
      "text/plain": [
       "<IPython.core.display.Latex object>"
      ]
     },
     "metadata": {},
     "output_type": "display_data"
    }
   ],
   "source": [
    "%%latex\n",
    "\n",
    "$$ ((0, ±1, ±\\phi))$$\n",
    "$$ ((±\\phi, 0, ±1))$$\n",
    "$$ ((±1, ±\\phi, 0))$$"
   ]
  },
  {
   "cell_type": "code",
   "execution_count": 15,
   "metadata": {
    "vscode": {
     "languageId": "latex"
    }
   },
   "outputs": [
    {
     "data": {
      "text/latex": [
       "\n",
       "$$[ \\vec{N} = ((0 - (-1), -1 - (-\\phi), \\phi - 0)) \\times ((\\phi - (-1), 0 - (-\\phi), 1 - 0)) ]$$\n",
       "\n",
       "$$[ \\vec{N} = (1, \\phi + 1, \\phi^2) \\times (\\phi + 1, \\phi, 1) ]$$\n",
       "\n",
       "$$[ \\vec{N} = (1, \\phi + 1, \\phi^2) \\times (\\phi + 1, \\phi, 1) ]$$\n"
      ],
      "text/plain": [
       "<IPython.core.display.Latex object>"
      ]
     },
     "metadata": {},
     "output_type": "display_data"
    }
   ],
   "source": [
    "%%latex\n",
    "\n",
    "$$[ \\vec{N} = ((0 - (-1), -1 - (-\\phi), \\phi - 0)) \\times ((\\phi - (-1), 0 - (-\\phi), 1 - 0)) ]$$\n",
    "\n",
    "$$[ \\vec{N} = (1, \\phi + 1, \\phi^2) \\times (\\phi + 1, \\phi, 1) ]$$\n",
    "\n",
    "$$[ \\vec{N} = (1, \\phi + 1, \\phi^2) \\times (\\phi + 1, \\phi, 1) ]$$"
   ]
  },
  {
   "cell_type": "code",
   "execution_count": 24,
   "metadata": {
    "vscode": {
     "languageId": "latex"
    }
   },
   "outputs": [
    {
     "data": {
      "text/latex": [
       "\n",
       "$$ \\begin{bmatrix} \\cos(\\theta) & -\\sin(\\theta) & 0 \\\\ \\sin(\\theta) & \\cos(\\theta) & 0 \\\\ 0 & 0 & 1 \\end{bmatrix} $$\n"
      ],
      "text/plain": [
       "<IPython.core.display.Latex object>"
      ]
     },
     "metadata": {},
     "output_type": "display_data"
    }
   ],
   "source": [
    "%%latex\n",
    "\n",
    "$$ \\begin{bmatrix} \\cos(\\theta) & -\\sin(\\theta) & 0 \\\\ \\sin(\\theta) & \\cos(\\theta) & 0 \\\\ 0 & 0 & 1 \\end{bmatrix} $$"
   ]
  },
  {
   "cell_type": "code",
   "execution_count": 19,
   "metadata": {
    "vscode": {
     "languageId": "latex"
    }
   },
   "outputs": [
    {
     "data": {
      "text/latex": [
       "\n",
       "$$[ \\vec{N}' = R_z(\\pi/3) \\cdot \\vec{N} ]$$\n"
      ],
      "text/plain": [
       "<IPython.core.display.Latex object>"
      ]
     },
     "metadata": {},
     "output_type": "display_data"
    }
   ],
   "source": [
    "%%latex\n",
    "\n",
    "$$[ \\vec{N}' = R_z(\\pi/3) \\cdot \\vec{N} ]$$"
   ]
  },
  {
   "cell_type": "code",
   "execution_count": null,
   "metadata": {
    "vscode": {
     "languageId": "latex"
    }
   },
   "outputs": [],
   "source": []
  }
 ],
 "metadata": {
  "kernelspec": {
   "display_name": "main",
   "language": "python",
   "name": "python3"
  },
  "language_info": {
   "codemirror_mode": {
    "name": "ipython",
    "version": 3
   },
   "file_extension": ".py",
   "mimetype": "text/x-python",
   "name": "python",
   "nbconvert_exporter": "python",
   "pygments_lexer": "ipython3",
   "version": "3.10.12"
  }
 },
 "nbformat": 4,
 "nbformat_minor": 2
}
